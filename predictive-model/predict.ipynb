{
 "cells": [
  {
   "cell_type": "markdown",
   "metadata": {},
   "source": [
    "## Setup"
   ]
  },
  {
   "cell_type": "code",
   "execution_count": null,
   "metadata": {},
   "outputs": [],
   "source": [
    "import keras\n",
    "import numpy as np\n",
    "import pandas as pd\n",
    "from keras.models import Sequential\n",
    "from keras.layers import Dense\n",
    "from keras.optimizers import SGD\n",
    "\n",
    "# data_file = input(\"Please enter the name of the data file: \")\n",
    "# if data_file.endswith(\".csv\") != True:\n",
    "# \tdata_file += \".csv\"\n",
    "data_file = \"data-files/AAPG-Prediction-Dataset.csv\"\n",
    "\n",
    "data = np.loadtxt(data_file, delimiter=\",\", skiprows=1)\n",
    "\n",
    "# extract data we want our model to predict against\n",
    "input_data = data[:,0:9]"
   ]
  },
  {
   "cell_type": "markdown",
   "metadata": {},
   "source": [
    "## Load and Run Model"
   ]
  },
  {
   "cell_type": "code",
   "execution_count": null,
   "metadata": {},
   "outputs": [],
   "source": [
    "# load the model\n",
    "model = keras.models.load_model(\"models/aapg-model.h5\")\n",
    "\n",
    "# run the model.predict() function on the entire dataset\n",
    "predicted_data = model.predict(input_data)"
   ]
  },
  {
   "cell_type": "markdown",
   "metadata": {},
   "source": [
    "## Save and Merge Results"
   ]
  },
  {
   "cell_type": "code",
   "execution_count": null,
   "metadata": {},
   "outputs": [],
   "source": [
    "# assign headers to add to dataframe\n",
    "headers = [\"Modeled Quartz\", \"Modeled Dolomite\", \"Modeled Illite\", \"Modeled Calcite\", \"Modeled Gypsum\", \"Modeled Microclin\", \"Modeled Albite\", \"Modeled Pyrite\", \"Modeled Kaolinite\"]\n",
    "\n",
    "# convert predicted data from a numpy array to a pandas dataframe\n",
    "# we're converting from numpy to pandas here to we can merge with another dataframe (our master dataset), and append the new columns we created\n",
    "predicted_df = pd.DataFrame(data = predicted_data, columns = headers)\n",
    "\n",
    "# read in master dataset into pandas dataframe\n",
    "master_df = pd.read_csv(\"data-files/AAPG-Master-Dataset.csv\")\n",
    "\n",
    "# append the new columns from our predicted data into our master dataframe\n",
    "master_df = master_df.join(predicted_df, how=\"outer\")\n",
    "# save our new compiled sheet\n",
    "master_df.to_csv(\"data-files/Joined-Master-Dataset.csv\", index=False)"
   ]
  }
 ],
 "metadata": {
  "kernelspec": {
   "display_name": "Python 3",
   "language": "python",
   "name": "python3"
  },
  "language_info": {
   "codemirror_mode": {
    "name": "ipython",
    "version": 3
   },
   "file_extension": ".py",
   "mimetype": "text/x-python",
   "name": "python",
   "nbconvert_exporter": "python",
   "pygments_lexer": "ipython3",
   "version": "3.7.5"
  }
 },
 "nbformat": 4,
 "nbformat_minor": 4
}
