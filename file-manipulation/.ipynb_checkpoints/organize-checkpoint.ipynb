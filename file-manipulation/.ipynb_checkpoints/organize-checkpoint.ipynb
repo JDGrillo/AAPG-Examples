{
 "cells": [
  {
   "cell_type": "code",
   "execution_count": 1,
   "metadata": {},
   "outputs": [],
   "source": [
    "# https://www.freecodecamp.org/news/how-to-combine-multiple-csv-files-with-8-lines-of-code-265183e0854/\n",
    "import os\n",
    "import glob\n",
    "import pandas as pd\n",
    "# specify the directory where the files exist\n",
    "os.chdir(\"data-files\")\n",
    "\n",
    "# specify which kinds of files we're looking to combine\n",
    "extension = \"csv\""
   ]
  },
  {
   "cell_type": "code",
   "execution_count": 2,
   "metadata": {},
   "outputs": [
    {
     "name": "stdout",
     "output_type": "stream",
     "text": [
      "['Dataset1.csv', 'Dataset2.csv', 'Dataset3.csv', 'Dataset4.csv', 'Dataset5.csv']\n"
     ]
    }
   ],
   "source": [
    "# extract all of the file names which meet our previous specifications, all csv files in the directory we've chosen\n",
    "# this is using something call list comprehension to create a list of all the file names we'll be using\n",
    "# https://www.programiz.com/python-programming/list-comprehension\n",
    "all_filenames = [i for i in glob.glob('*.{}'.format(extension))]\n",
    "print(all_filenames)\n",
    "\n",
    "# combine all files into a single pandas dataframe using concat\n",
    "combined_csv = pd.concat([pd.read_csv(f) for f in all_filenames ])\n",
    "\n",
    "combined_csv.to_csv( \"../combined-files/combined-csv.csv\", index=False, encoding='utf-8-sig')"
   ]
  },
  {
   "cell_type": "code",
   "execution_count": null,
   "metadata": {},
   "outputs": [],
   "source": []
  }
 ],
 "metadata": {
  "kernelspec": {
   "display_name": "Python 3",
   "language": "python",
   "name": "python3"
  },
  "language_info": {
   "codemirror_mode": {
    "name": "ipython",
    "version": 3
   },
   "file_extension": ".py",
   "mimetype": "text/x-python",
   "name": "python",
   "nbconvert_exporter": "python",
   "pygments_lexer": "ipython3",
   "version": "3.7.5"
  }
 },
 "nbformat": 4,
 "nbformat_minor": 4
}
