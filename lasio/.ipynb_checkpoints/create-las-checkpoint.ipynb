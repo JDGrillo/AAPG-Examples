{
 "cells": [
  {
   "cell_type": "markdown",
   "metadata": {},
   "source": [
    "## Setup"
   ]
  },
  {
   "cell_type": "code",
   "execution_count": null,
   "metadata": {},
   "outputs": [
    {
     "name": "stdin",
     "output_type": "stream",
     "text": [
      "Please enter the name of the legend:  key\n"
     ]
    }
   ],
   "source": [
    "import lasio\n",
    "import numpy as np\n",
    "from datetime import datetime\n",
    "import os\n",
    "\n",
    "key = input(\"Please enter the name of the legend: \")\n",
    "data = input(\"Please enter the name of the sheet to be LAS'd: \")\n",
    "file_name = input(\"Please enter the name of the save file: \")\n",
    "if key.endswith(\".csv\") != True:\n",
    "    key += \".csv\"\n",
    "if data.endswith(\".csv\") != True:\n",
    "    data += \".csv\"\n"
   ]
  },
  {
   "cell_type": "markdown",
   "metadata": {},
   "source": [
    "## Assign the Data"
   ]
  },
  {
   "cell_type": "code",
   "execution_count": null,
   "metadata": {},
   "outputs": [],
   "source": [
    "# \n",
    "keys = np.loadtxt(open(key, \"r\"), dtype=\"str\", delimiter=\",\", skiprows=1)\n",
    "\n",
    "dataset = np.loadtxt(open(data, \"r\"), delimiter=\",\", skiprows=1)\n",
    "# dataset = np.genfromtxt(data, delimiter=',', skip_header=True)[:, 0:]"
   ]
  },
  {
   "cell_type": "markdown",
   "metadata": {},
   "source": [
    "## Manipulate the lasio.LASFile() Object"
   ]
  },
  {
   "cell_type": "code",
   "execution_count": null,
   "metadata": {},
   "outputs": [],
   "source": [
    "# assign necessary attributes to xrf_las object\n",
    "xrf_las = lasio.LASFile()\n",
    "xrf_las.version.WRAP\n",
    "xrf_las.well.DATE = str(datetime.today())\n",
    "xrf_las.well.API = str(\"\")\n",
    "xrf_las.well.COMP = \"\"\n",
    "xrf_las.well.WELL = \"\"\n",
    "\n",
    "# iterate over all keys, and add curve of corresponding data column\n",
    "for i in range(len(keys)):\n",
    "#   on the first pass, we're adding (\"Depth (ft)\", The Column of Depth Data, \"ft\", \"Value\") to our xrf_las object\n",
    "#   on the second pass, we're adding (\"%Na\", The Column of Na Data, \"wt_pct\", \"XRF Sodium\") to our xrf_las object\n",
    "    xrf_las.add_curve(keys[i][0], dataset[:,i], unit=keys[i][1], descr=keys[i][2])\n",
    "\n",
    "# write the xrf_las object into an .las file specified by user\n",
    "xrf_las.write(str(file_name + \".las\"), STEP=1, version =1.2)"
   ]
  }
 ],
 "metadata": {
  "kernelspec": {
   "display_name": "Python 3",
   "language": "python",
   "name": "python3"
  },
  "language_info": {
   "codemirror_mode": {
    "name": "ipython",
    "version": 3
   },
   "file_extension": ".py",
   "mimetype": "text/x-python",
   "name": "python",
   "nbconvert_exporter": "python",
   "pygments_lexer": "ipython3",
   "version": "3.7.5"
  }
 },
 "nbformat": 4,
 "nbformat_minor": 4
}
